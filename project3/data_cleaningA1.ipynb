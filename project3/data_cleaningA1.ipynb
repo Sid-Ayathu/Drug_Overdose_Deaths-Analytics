{
 "cells": [
  {
   "cell_type": "code",
   "execution_count": 2,
   "metadata": {},
   "outputs": [],
   "source": [
    "import numpy as np\n",
    "import pandas as pd"
   ]
  },
  {
   "cell_type": "code",
   "execution_count": 3,
   "metadata": {},
   "outputs": [],
   "source": [
    "df = pd.read_csv(\"drug_deaths.csv\")"
   ]
  },
  {
   "cell_type": "code",
   "execution_count": 4,
   "metadata": {},
   "outputs": [],
   "source": [
    "df.drop_duplicates(inplace=True)"
   ]
  },
  {
   "cell_type": "code",
   "execution_count": 5,
   "metadata": {},
   "outputs": [
    {
     "data": {
      "text/plain": [
       "Unnamed: 0              0.000000\n",
       "ID                      0.000000\n",
       "Date                    0.039177\n",
       "DateType                0.039177\n",
       "Age                     0.058766\n",
       "Sex                     0.117532\n",
       "Race                    0.254652\n",
       "ResidenceCity           3.388834\n",
       "ResidenceCounty        15.612145\n",
       "ResidenceState         30.342801\n",
       "DeathCity               0.097943\n",
       "DeathCounty            21.547502\n",
       "Location                0.470127\n",
       "LocationifOther        88.442703\n",
       "DescriptionofInjury    15.279138\n",
       "InjuryPlace             1.292850\n",
       "InjuryCity             34.397649\n",
       "InjuryCounty           53.692458\n",
       "InjuryState            72.105779\n",
       "COD                     0.000000\n",
       "OtherSignifican        96.689520\n",
       "Heroin                  0.000000\n",
       "Cocaine                 0.000000\n",
       "Fentanyl                0.000000\n",
       "Fentanyl_Analogue       0.000000\n",
       "Oxycodone               0.000000\n",
       "Oxymorphone             0.000000\n",
       "Ethanol                 0.000000\n",
       "Hydrocodone             0.000000\n",
       "Benzodiazepine          0.000000\n",
       "Methadone               0.000000\n",
       "Amphet                  0.000000\n",
       "Tramad                  0.000000\n",
       "Morphine_NotHeroin      0.000000\n",
       "Hydromorphone           0.000000\n",
       "Other                  91.478942\n",
       "OpiateNOS               0.000000\n",
       "AnyOpioid               0.000000\n",
       "MannerofDeath           0.195886\n",
       "DeathCityGeo            0.000000\n",
       "ResidenceCityGeo        1.821743\n",
       "InjuryCityGeo           1.527914\n",
       "dtype: float64"
      ]
     },
     "execution_count": 5,
     "metadata": {},
     "output_type": "execute_result"
    }
   ],
   "source": [
    "null_value_percentages=(df.isna().sum()/df.shape[0])*100\n",
    "null_value_percentages"
   ]
  },
  {
   "cell_type": "code",
   "execution_count": 6,
   "metadata": {},
   "outputs": [
    {
     "data": {
      "text/plain": [
       "(5105, 42)"
      ]
     },
     "execution_count": 6,
     "metadata": {},
     "output_type": "execute_result"
    }
   ],
   "source": [
    "df.shape"
   ]
  },
  {
   "cell_type": "code",
   "execution_count": 7,
   "metadata": {},
   "outputs": [
    {
     "data": {
      "text/plain": [
       "Unnamed: 0                0\n",
       "ID                        0\n",
       "Date                      2\n",
       "DateType                  2\n",
       "Age                       3\n",
       "Sex                       6\n",
       "Race                     13\n",
       "ResidenceCity           173\n",
       "ResidenceCounty         797\n",
       "ResidenceState         1549\n",
       "DeathCity                 5\n",
       "DeathCounty            1100\n",
       "Location                 24\n",
       "LocationifOther        4515\n",
       "DescriptionofInjury     780\n",
       "InjuryPlace              66\n",
       "InjuryCity             1756\n",
       "InjuryCounty           2741\n",
       "InjuryState            3681\n",
       "COD                       0\n",
       "OtherSignifican        4936\n",
       "Heroin                    0\n",
       "Cocaine                   0\n",
       "Fentanyl                  0\n",
       "Fentanyl_Analogue         0\n",
       "Oxycodone                 0\n",
       "Oxymorphone               0\n",
       "Ethanol                   0\n",
       "Hydrocodone               0\n",
       "Benzodiazepine            0\n",
       "Methadone                 0\n",
       "Amphet                    0\n",
       "Tramad                    0\n",
       "Morphine_NotHeroin        0\n",
       "Hydromorphone             0\n",
       "Other                  4670\n",
       "OpiateNOS                 0\n",
       "AnyOpioid                 0\n",
       "MannerofDeath            10\n",
       "DeathCityGeo              0\n",
       "ResidenceCityGeo         93\n",
       "InjuryCityGeo            78\n",
       "dtype: int64"
      ]
     },
     "execution_count": 7,
     "metadata": {},
     "output_type": "execute_result"
    }
   ],
   "source": [
    "df.isna().sum()"
   ]
  },
  {
   "cell_type": "code",
   "execution_count": 8,
   "metadata": {},
   "outputs": [
    {
     "data": {
      "text/plain": [
       "Date                    0.039177\n",
       "DateType                0.039177\n",
       "Age                     0.058766\n",
       "Sex                     0.117532\n",
       "Race                    0.254652\n",
       "ResidenceCity           3.388834\n",
       "ResidenceCounty        15.612145\n",
       "ResidenceState         30.342801\n",
       "DeathCity               0.097943\n",
       "DeathCounty            21.547502\n",
       "Location                0.470127\n",
       "LocationifOther        88.442703\n",
       "DescriptionofInjury    15.279138\n",
       "InjuryPlace             1.292850\n",
       "InjuryCity             34.397649\n",
       "InjuryCounty           53.692458\n",
       "InjuryState            72.105779\n",
       "OtherSignifican        96.689520\n",
       "Other                  91.478942\n",
       "MannerofDeath           0.195886\n",
       "ResidenceCityGeo        1.821743\n",
       "InjuryCityGeo           1.527914\n",
       "dtype: float64"
      ]
     },
     "execution_count": 8,
     "metadata": {},
     "output_type": "execute_result"
    }
   ],
   "source": [
    "columns_with_null_values = null_value_percentages[null_value_percentages>0]\n",
    "columns_with_null_values"
   ]
  },
  {
   "cell_type": "code",
   "execution_count": 9,
   "metadata": {},
   "outputs": [
    {
     "data": {
      "text/plain": [
       "Index(['LocationifOther', 'InjuryCounty', 'InjuryState', 'OtherSignifican',\n",
       "       'Other'],\n",
       "      dtype='object')"
      ]
     },
     "execution_count": 9,
     "metadata": {},
     "output_type": "execute_result"
    }
   ],
   "source": [
    "columns_to_drop=null_value_percentages[null_value_percentages>40]\n",
    "columns_to_drop=columns_to_drop.keys()\n",
    "columns_to_drop"
   ]
  },
  {
   "cell_type": "code",
   "execution_count": 10,
   "metadata": {},
   "outputs": [],
   "source": [
    "df.drop(columns=columns_to_drop,inplace=True)"
   ]
  },
  {
   "cell_type": "code",
   "execution_count": 11,
   "metadata": {},
   "outputs": [
    {
     "data": {
      "text/plain": [
       "(5105, 37)"
      ]
     },
     "execution_count": 11,
     "metadata": {},
     "output_type": "execute_result"
    }
   ],
   "source": [
    "df.shape"
   ]
  },
  {
   "cell_type": "code",
   "execution_count": 12,
   "metadata": {},
   "outputs": [],
   "source": [
    "df.drop_duplicates(inplace=True)"
   ]
  },
  {
   "cell_type": "code",
   "execution_count": 13,
   "metadata": {},
   "outputs": [
    {
     "data": {
      "text/plain": [
       "Date                    0.039177\n",
       "DateType                0.039177\n",
       "Age                     0.058766\n",
       "Sex                     0.117532\n",
       "Race                    0.254652\n",
       "ResidenceCity           3.388834\n",
       "ResidenceCounty        15.612145\n",
       "ResidenceState         30.342801\n",
       "DeathCity               0.097943\n",
       "DeathCounty            21.547502\n",
       "Location                0.470127\n",
       "DescriptionofInjury    15.279138\n",
       "InjuryPlace             1.292850\n",
       "InjuryCity             34.397649\n",
       "MannerofDeath           0.195886\n",
       "ResidenceCityGeo        1.821743\n",
       "InjuryCityGeo           1.527914\n",
       "dtype: float64"
      ]
     },
     "execution_count": 13,
     "metadata": {},
     "output_type": "execute_result"
    }
   ],
   "source": [
    "null_value_percentages_after_dropping_cols=(df.isna().sum()/df.shape[0])*100\n",
    "columns_with_null_values = null_value_percentages_after_dropping_cols[null_value_percentages_after_dropping_cols>0]\n",
    "columns_with_null_values"
   ]
  },
  {
   "cell_type": "code",
   "execution_count": 14,
   "metadata": {},
   "outputs": [
    {
     "data": {
      "text/plain": [
       "ResidenceCity         3.388834\n",
       "ResidenceCityGeo      1.821743\n",
       "InjuryCityGeo         1.527914\n",
       "InjuryPlace           1.292850\n",
       "Location              0.470127\n",
       "Race                  0.254652\n",
       "MannerofDeath         0.195886\n",
       "Sex                   0.117532\n",
       "DeathCity             0.097943\n",
       "Age                   0.058766\n",
       "DateType              0.039177\n",
       "Date                  0.039177\n",
       "Methadone             0.000000\n",
       "DeathCityGeo          0.000000\n",
       "AnyOpioid             0.000000\n",
       "OpiateNOS             0.000000\n",
       "Hydromorphone         0.000000\n",
       "Morphine_NotHeroin    0.000000\n",
       "Tramad                0.000000\n",
       "Amphet                0.000000\n",
       "Unnamed: 0            0.000000\n",
       "Benzodiazepine        0.000000\n",
       "Hydrocodone           0.000000\n",
       "Ethanol               0.000000\n",
       "Oxymorphone           0.000000\n",
       "ID                    0.000000\n",
       "Fentanyl_Analogue     0.000000\n",
       "Fentanyl              0.000000\n",
       "Cocaine               0.000000\n",
       "Heroin                0.000000\n",
       "COD                   0.000000\n",
       "Oxycodone             0.000000\n",
       "dtype: float64"
      ]
     },
     "execution_count": 14,
     "metadata": {},
     "output_type": "execute_result"
    }
   ],
   "source": [
    "rows_to_drop=null_value_percentages[null_value_percentages<5].sort_values(ascending=False)\n",
    "rows_to_drop"
   ]
  },
  {
   "cell_type": "code",
   "execution_count": 15,
   "metadata": {},
   "outputs": [
    {
     "data": {
      "text/plain": [
       "Index(['ResidenceCity', 'ResidenceCityGeo', 'InjuryCityGeo', 'InjuryPlace',\n",
       "       'Location', 'Race', 'MannerofDeath', 'Sex', 'DeathCity', 'Age',\n",
       "       'DateType', 'Date', 'Methadone', 'DeathCityGeo', 'AnyOpioid',\n",
       "       'OpiateNOS', 'Hydromorphone', 'Morphine_NotHeroin', 'Tramad', 'Amphet',\n",
       "       'Unnamed: 0', 'Benzodiazepine', 'Hydrocodone', 'Ethanol', 'Oxymorphone',\n",
       "       'ID', 'Fentanyl_Analogue', 'Fentanyl', 'Cocaine', 'Heroin', 'COD',\n",
       "       'Oxycodone'],\n",
       "      dtype='object')"
      ]
     },
     "execution_count": 15,
     "metadata": {},
     "output_type": "execute_result"
    }
   ],
   "source": [
    "rows_to_drop=rows_to_drop.keys()\n",
    "rows_to_drop\n",
    "\n"
   ]
  },
  {
   "cell_type": "code",
   "execution_count": 16,
   "metadata": {},
   "outputs": [],
   "source": [
    "for row in rows_to_drop:\n",
    "\tif(null_value_percentages[row]<5):\n",
    "\t\tdf.drop(labels=df.index[df[row].isna()],inplace=True)"
   ]
  },
  {
   "cell_type": "code",
   "execution_count": 17,
   "metadata": {},
   "outputs": [
    {
     "data": {
      "text/plain": [
       "(4671, 37)"
      ]
     },
     "execution_count": 17,
     "metadata": {},
     "output_type": "execute_result"
    }
   ],
   "source": [
    "df.shape"
   ]
  },
  {
   "cell_type": "code",
   "execution_count": 18,
   "metadata": {},
   "outputs": [
    {
     "data": {
      "text/plain": [
       "ResidenceCounty        12.395633\n",
       "ResidenceState         27.767073\n",
       "DeathCounty            20.723614\n",
       "DescriptionofInjury    14.557911\n",
       "InjuryCity             34.575037\n",
       "dtype: float64"
      ]
     },
     "execution_count": 18,
     "metadata": {},
     "output_type": "execute_result"
    }
   ],
   "source": [
    "null_value_percentages_after_dropping_rows=(df.isna().sum()/df.shape[0])*100\n",
    "columns_with_null_values = null_value_percentages_after_dropping_rows[null_value_percentages_after_dropping_rows>0]\n",
    "columns_with_null_values"
   ]
  },
  {
   "cell_type": "code",
   "execution_count": 19,
   "metadata": {},
   "outputs": [],
   "source": [
    "\n",
    "df.to_csv('clean1_drug_deaths.csv')"
   ]
  },
  {
   "cell_type": "code",
   "execution_count": 20,
   "metadata": {},
   "outputs": [],
   "source": [
    "df.drop(columns='ID',inplace=True)"
   ]
  },
  {
   "cell_type": "code",
   "execution_count": 21,
   "metadata": {},
   "outputs": [
    {
     "data": {
      "text/plain": [
       "(4671, 36)"
      ]
     },
     "execution_count": 21,
     "metadata": {},
     "output_type": "execute_result"
    }
   ],
   "source": [
    "df.shape"
   ]
  },
  {
   "cell_type": "code",
   "execution_count": 22,
   "metadata": {},
   "outputs": [],
   "source": [
    "df.drop(columns='InjuryCity',inplace=True)"
   ]
  },
  {
   "cell_type": "code",
   "execution_count": 23,
   "metadata": {},
   "outputs": [],
   "source": [
    "df.to_csv('clean2_drug_deaths.csv')"
   ]
  },
  {
   "cell_type": "code",
   "execution_count": 24,
   "metadata": {},
   "outputs": [],
   "source": [
    "clean2_df = pd.read_csv(\"clean2_drug_deaths.csv\")"
   ]
  },
  {
   "cell_type": "code",
   "execution_count": 25,
   "metadata": {},
   "outputs": [
    {
     "data": {
      "text/plain": [
       "ResidenceCounty        12.395633\n",
       "ResidenceState         27.767073\n",
       "DeathCounty            20.723614\n",
       "DescriptionofInjury    14.557911\n",
       "dtype: float64"
      ]
     },
     "execution_count": 25,
     "metadata": {},
     "output_type": "execute_result"
    }
   ],
   "source": [
    "null_value_percentages=(clean2_df.isna().sum()/clean2_df.shape[0])*100\n",
    "columns_with_null_values = null_value_percentages[null_value_percentages>0]\n",
    "columns_with_null_values"
   ]
  },
  {
   "cell_type": "code",
   "execution_count": 26,
   "metadata": {},
   "outputs": [],
   "source": [
    "clean2_df.drop(columns='InjuryCityGeo',inplace=True)"
   ]
  },
  {
   "cell_type": "code",
   "execution_count": 27,
   "metadata": {},
   "outputs": [],
   "source": [
    "clean2_df.sort_values(by='ResidenceCity', ascending=True, inplace=True)"
   ]
  },
  {
   "cell_type": "code",
   "execution_count": 28,
   "metadata": {},
   "outputs": [],
   "source": [
    "clean2_df.to_csv('clean3_drug_deaths.csv')"
   ]
  },
  {
   "cell_type": "code",
   "execution_count": 29,
   "metadata": {},
   "outputs": [],
   "source": [
    "clean3_df = pd.read_csv(\"clean3_drug_deaths.csv\")"
   ]
  },
  {
   "cell_type": "code",
   "execution_count": 30,
   "metadata": {},
   "outputs": [],
   "source": [
    "clean3_df.drop(columns='ResidenceState',inplace=True)"
   ]
  },
  {
   "cell_type": "code",
   "execution_count": 33,
   "metadata": {},
   "outputs": [],
   "source": [
    "clean3_df.to_csv('clean4_drug_deaths.csv')"
   ]
  },
  {
   "cell_type": "code",
   "execution_count": 38,
   "metadata": {},
   "outputs": [],
   "source": [
    "clean4_df = pd.read_csv(\"clean4_drug_deaths.csv\")"
   ]
  },
  {
   "cell_type": "code",
   "execution_count": 43,
   "metadata": {},
   "outputs": [],
   "source": [
    "# Sorting first by 'ResidenceCity' and then by 'DeathCity'\n",
    "clean4_df.sort_values(by='DeathCity', ascending=True, inplace=True)\n"
   ]
  },
  {
   "cell_type": "code",
   "execution_count": 44,
   "metadata": {},
   "outputs": [],
   "source": [
    "clean4_df.to_csv('clean5_drug_deaths.csv')"
   ]
  },
  {
   "cell_type": "code",
   "execution_count": 45,
   "metadata": {},
   "outputs": [],
   "source": [
    "clean5_df = pd.read_csv(\"clean5_drug_deaths.csv\")"
   ]
  },
  {
   "cell_type": "code",
   "execution_count": 46,
   "metadata": {},
   "outputs": [
    {
     "data": {
      "text/plain": [
       "Series([], dtype: float64)"
      ]
     },
     "execution_count": 46,
     "metadata": {},
     "output_type": "execute_result"
    }
   ],
   "source": [
    "null_value_percentages=(clean5_df.isna().sum()/clean5_df.shape[0])*100\n",
    "columns_with_null_values = null_value_percentages[null_value_percentages>0]\n",
    "columns_with_null_values"
   ]
  },
  {
   "cell_type": "code",
   "execution_count": 50,
   "metadata": {},
   "outputs": [
    {
     "data": {
      "text/plain": [
       "Heroin                 int64\n",
       "Cocaine                int64\n",
       "Fentanyl              object\n",
       "Fentanyl_Analogue      int64\n",
       "Oxycodone              int64\n",
       "Oxymorphone            int64\n",
       "Ethanol                int64\n",
       "Hydrocodone            int64\n",
       "Benzodiazepine         int64\n",
       "Methadone              int64\n",
       "Amphet                 int64\n",
       "Tramad                 int64\n",
       "Morphine_NotHeroin    object\n",
       "Hydromorphone          int64\n",
       "OpiateNOS              int64\n",
       "AnyOpioid             object\n",
       "dtype: object"
      ]
     },
     "execution_count": 50,
     "metadata": {},
     "output_type": "execute_result"
    }
   ],
   "source": [
    "# List of columns to sum\n",
    "drug_columns = ['Heroin', 'Cocaine', 'Fentanyl', 'Fentanyl_Analogue', 'Oxycodone', 'Oxymorphone', \n",
    "                'Ethanol', 'Hydrocodone', 'Benzodiazepine', 'Methadone', 'Amphet', 'Tramad', \n",
    "                'Morphine_NotHeroin', 'Hydromorphone', 'OpiateNOS', 'AnyOpioid']\n",
    "\n",
    "# Adding the new column 'no_of_drugs' by summing the specified columns\n",
    "#clean5_df['no_of_drugs'] = clean5_df[drug_columns].sum(axis=1)\n",
    "clean5_df[drug_columns].dtypes\n"
   ]
  },
  {
   "cell_type": "code",
   "execution_count": null,
   "metadata": {},
   "outputs": [],
   "source": [
    "df['Fentanyl'] = pd.to_numeric(df['Fentanyl'], errors='coerce').astype('Int64')\n",
    "df['Morphine_NotHeroin'] = pd.to_numeric(df['Morphine_NotHeroin'], errors='coerce').astype('Int64')\n",
    "df['AnyOpioid'] = pd.to_numeric(df['AnyOpioid'], errors='coerce').astype('Int64')\n"
   ]
  },
  {
   "cell_type": "code",
   "execution_count": 51,
   "metadata": {},
   "outputs": [],
   "source": [
    "clean5_df = pd.read_csv(\"clean5_drug_deaths.csv\")"
   ]
  },
  {
   "cell_type": "code",
   "execution_count": 52,
   "metadata": {},
   "outputs": [],
   "source": [
    "df['Fentanyl'] = pd.to_numeric(df['Fentanyl'], errors='coerce').astype('Int64')\n",
    "df['Morphine_NotHeroin'] = pd.to_numeric(df['Morphine_NotHeroin'], errors='coerce').astype('Int64')\n",
    "df['AnyOpioid'] = pd.to_numeric(df['AnyOpioid'], errors='coerce').astype('Int64')"
   ]
  },
  {
   "cell_type": "code",
   "execution_count": 54,
   "metadata": {},
   "outputs": [
    {
     "data": {
      "text/plain": [
       "Heroin                int64\n",
       "Cocaine               int64\n",
       "Fentanyl              int64\n",
       "Fentanyl_Analogue     int64\n",
       "Oxycodone             int64\n",
       "Oxymorphone           int64\n",
       "Ethanol               int64\n",
       "Hydrocodone           int64\n",
       "Benzodiazepine        int64\n",
       "Methadone             int64\n",
       "Amphet                int64\n",
       "Tramad                int64\n",
       "Morphine_NotHeroin    int64\n",
       "Hydromorphone         int64\n",
       "OpiateNOS             int64\n",
       "AnyOpioid             int64\n",
       "dtype: object"
      ]
     },
     "execution_count": 54,
     "metadata": {},
     "output_type": "execute_result"
    }
   ],
   "source": [
    "# List of columns to sum\n",
    "drug_columns = ['Heroin', 'Cocaine', 'Fentanyl', 'Fentanyl_Analogue', 'Oxycodone', 'Oxymorphone', \n",
    "                'Ethanol', 'Hydrocodone', 'Benzodiazepine', 'Methadone', 'Amphet', 'Tramad', \n",
    "                'Morphine_NotHeroin', 'Hydromorphone', 'OpiateNOS', 'AnyOpioid']\n",
    "\n",
    "\n",
    "clean5_df[drug_columns].dtypes"
   ]
  },
  {
   "cell_type": "code",
   "execution_count": 55,
   "metadata": {},
   "outputs": [],
   "source": [
    "clean5_df['no_of_drugs'] = clean5_df[drug_columns].sum(axis=1)"
   ]
  },
  {
   "cell_type": "code",
   "execution_count": 56,
   "metadata": {},
   "outputs": [],
   "source": [
    "clean5_df.to_csv('clean6_drug_deaths.csv')"
   ]
  },
  {
   "cell_type": "code",
   "execution_count": 2,
   "metadata": {},
   "outputs": [],
   "source": [
    "import pandas as pd\n",
    "clean6_df = pd.read_csv(\"clean6_drug_deaths.csv\")"
   ]
  },
  {
   "cell_type": "code",
   "execution_count": 3,
   "metadata": {},
   "outputs": [],
   "source": [
    "clean6_df['Date'] = pd.to_datetime(clean6_df['Date']).dt.strftime('%m/%d/%Y')"
   ]
  },
  {
   "cell_type": "code",
   "execution_count": 5,
   "metadata": {},
   "outputs": [],
   "source": [
    "clean6_df.to_csv('clean6_drug_deaths.csv')"
   ]
  },
  {
   "cell_type": "code",
   "execution_count": 1,
   "metadata": {},
   "outputs": [],
   "source": [
    "import pandas as pd\n",
    "clean6_df = pd.read_csv(\"clean6_drug_deaths.csv\")"
   ]
  },
  {
   "cell_type": "code",
   "execution_count": 10,
   "metadata": {},
   "outputs": [],
   "source": [
    "# Group by 'death county' and count the number of deaths in each county\n",
    "clean6_df['num_of_deaths_in_county'] = clean6_df.groupby('DeathCounty')['DeathCounty'].transform('count')"
   ]
  },
  {
   "cell_type": "code",
   "execution_count": 3,
   "metadata": {},
   "outputs": [],
   "source": [
    "clean6_df.to_csv('clean6_drug_deaths.csv')"
   ]
  },
  {
   "cell_type": "code",
   "execution_count": 2,
   "metadata": {},
   "outputs": [],
   "source": [
    "clean6_df['num_of_injuries_in_race'] = clean6_df.groupby('Race')['Race'].transform('count')"
   ]
  }
 ],
 "metadata": {
  "kernelspec": {
   "display_name": "Python 3",
   "language": "python",
   "name": "python3"
  },
  "language_info": {
   "codemirror_mode": {
    "name": "ipython",
    "version": 3
   },
   "file_extension": ".py",
   "mimetype": "text/x-python",
   "name": "python",
   "nbconvert_exporter": "python",
   "pygments_lexer": "ipython3",
   "version": "3.8.10"
  }
 },
 "nbformat": 4,
 "nbformat_minor": 2
}
